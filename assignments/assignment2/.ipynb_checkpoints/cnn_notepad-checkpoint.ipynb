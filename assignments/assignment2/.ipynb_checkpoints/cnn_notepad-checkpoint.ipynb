{
 "cells": [
  {
   "cell_type": "code",
   "execution_count": 1,
   "metadata": {},
   "outputs": [],
   "source": [
    "import numpy as np"
   ]
  },
  {
   "cell_type": "code",
   "execution_count": 2,
   "metadata": {},
   "outputs": [],
   "source": [
    "x = np.random.randint(low=0, high=9, size=(1, 4, 4))\n",
    "w = np.random.randint(low=0, high=9, size=(1, 4, 4))\n",
    "\n",
    "s = 2\n",
    "pad = 1\n",
    "\n",
    "pad_width = ((0, 0), (pad, pad), (pad, pad))\n",
    "x_pad = np.pad(array=x, pad_width=pad_width, mode='constant', constant_values=0)\n",
    "\n",
    "N, H, W = x.shape\n",
    "F, HH, WW = w.shape\n",
    "\n",
    "H_prime = 1 + (H + 2 * pad - HH) // s\n",
    "W_prime = 1 + (W + 2 * pad - WW) // s"
   ]
  },
  {
   "cell_type": "code",
   "execution_count": 7,
   "metadata": {},
   "outputs": [],
   "source": [
    "out = np.zeros(shape=(N, F, H_prime, W_prime))"
   ]
  },
  {
   "cell_type": "code",
   "execution_count": 8,
   "metadata": {},
   "outputs": [
    {
     "data": {
      "text/plain": [
       "array([[[[0., 0.],\n",
       "         [0., 0.]]]])"
      ]
     },
     "execution_count": 8,
     "metadata": {},
     "output_type": "execute_result"
    }
   ],
   "source": [
    "out"
   ]
  },
  {
   "cell_type": "code",
   "execution_count": 3,
   "metadata": {},
   "outputs": [
    {
     "data": {
      "text/plain": [
       "array([[[3, 2, 5, 7],\n",
       "        [1, 4, 4, 2],\n",
       "        [2, 8, 1, 3],\n",
       "        [0, 3, 6, 3]]])"
      ]
     },
     "execution_count": 3,
     "metadata": {},
     "output_type": "execute_result"
    }
   ],
   "source": [
    "x"
   ]
  },
  {
   "cell_type": "code",
   "execution_count": 4,
   "metadata": {},
   "outputs": [
    {
     "data": {
      "text/plain": [
       "array([[[0, 0, 0, 0, 0, 0],\n",
       "        [0, 3, 2, 5, 7, 0],\n",
       "        [0, 1, 4, 4, 2, 0],\n",
       "        [0, 2, 8, 1, 3, 0],\n",
       "        [0, 0, 3, 6, 3, 0],\n",
       "        [0, 0, 0, 0, 0, 0]]])"
      ]
     },
     "execution_count": 4,
     "metadata": {},
     "output_type": "execute_result"
    }
   ],
   "source": [
    "x_pad"
   ]
  },
  {
   "cell_type": "code",
   "execution_count": 5,
   "metadata": {},
   "outputs": [
    {
     "data": {
      "text/plain": [
       "array([[[8, 7, 1, 7],\n",
       "        [5, 4, 8, 4],\n",
       "        [8, 8, 6, 2],\n",
       "        [0, 7, 5, 8]]])"
      ]
     },
     "execution_count": 5,
     "metadata": {},
     "output_type": "execute_result"
    }
   ],
   "source": [
    "w"
   ]
  },
  {
   "cell_type": "code",
   "execution_count": 9,
   "metadata": {},
   "outputs": [
    {
     "name": "stdout",
     "output_type": "stream",
     "text": [
      "n = 0\n",
      "sample = \n",
      "[[0 0 0 0 0 0]\n",
      " [0 3 2 5 7 0]\n",
      " [0 1 4 4 2 0]\n",
      " [0 2 8 1 3 0]\n",
      " [0 0 3 6 3 0]\n",
      " [0 0 0 0 0 0]]\n",
      "f = 0\n",
      "filt = \n",
      "[[8 7 1 7]\n",
      " [5 4 8 4]\n",
      " [8 8 6 2]\n",
      " [0 7 5 8]]\n",
      "\ti = 0\n",
      "\tj = 0\n",
      "patch = \n",
      "[[0 0 0 0]\n",
      " [0 3 2 5]\n",
      " [0 1 4 4]\n",
      " [0 2 8 1]]\n",
      "prod = \n",
      "[[ 0  0  0  0]\n",
      " [ 0 12 16 20]\n",
      " [ 0  8 24  8]\n",
      " [ 0 14 40  8]]\n",
      "output = 150\n",
      "out = \n",
      "[[[[150.   0.]\n",
      "   [  0.   0.]]]]\n",
      "\n",
      "\tj = 1\n",
      "patch = \n",
      "[[0 0 0 0]\n",
      " [2 5 7 0]\n",
      " [4 4 2 0]\n",
      " [8 1 3 0]]\n",
      "prod = \n",
      "[[ 0  0  0  0]\n",
      " [10 20 56  0]\n",
      " [32 32 12  0]\n",
      " [ 0  7 15  0]]\n",
      "output = 184\n",
      "out = \n",
      "[[[[150. 184.]\n",
      "   [  0.   0.]]]]\n",
      "\n",
      "\ti = 1\n",
      "\tj = 0\n",
      "patch = \n",
      "[[0 1 4 4]\n",
      " [0 2 8 1]\n",
      " [0 0 3 6]\n",
      " [0 0 0 0]]\n",
      "prod = \n",
      "[[ 0  7  4 28]\n",
      " [ 0  8 64  4]\n",
      " [ 0  0 18 12]\n",
      " [ 0  0  0  0]]\n",
      "output = 145\n",
      "out = \n",
      "[[[[150. 184.]\n",
      "   [145.   0.]]]]\n",
      "\n",
      "\tj = 1\n",
      "patch = \n",
      "[[4 4 2 0]\n",
      " [8 1 3 0]\n",
      " [3 6 3 0]\n",
      " [0 0 0 0]]\n",
      "prod = \n",
      "[[32 28  2  0]\n",
      " [40  4 24  0]\n",
      " [24 48 18  0]\n",
      " [ 0  0  0  0]]\n",
      "output = 220\n",
      "out = \n",
      "[[[[150. 184.]\n",
      "   [145. 220.]]]]\n",
      "\n"
     ]
    }
   ],
   "source": [
    "for n in range(N):\n",
    "    print('n = {}'.format(n))\n",
    "    sample = x_pad[n, :, :]\n",
    "    print('sample = \\n{}'.format(sample))\n",
    "    for f in range(F):\n",
    "        print('f = {}'.format(f))\n",
    "        filt = w[f, :, :]\n",
    "        print('filt = \\n{}'.format(filt))\n",
    "        for i in range(H_prime):\n",
    "            print('\\ti = {}'.format(i))\n",
    "            for j in range(W_prime):\n",
    "                print('\\tj = {}'.format(j))\n",
    "                patch = sample[(i * s):(i * s + HH), (j * s):(j * s + WW)]\n",
    "                print('patch = \\n{}'.format(patch))\n",
    "                prod = patch * filt\n",
    "                print('prod = \\n{}'.format(prod))\n",
    "                output = np.sum(prod)\n",
    "                print('output = {}'.format(output))\n",
    "                out[n, f, i, j] = output\n",
    "                print('out = \\n{}'.format(out))\n",
    "                print()"
   ]
  },
  {
   "cell_type": "code",
   "execution_count": 12,
   "metadata": {},
   "outputs": [],
   "source": [
    "dout = np.random.randint(low=0, high=9, size=(1, 1, 2, 2))"
   ]
  },
  {
   "cell_type": "code",
   "execution_count": 13,
   "metadata": {},
   "outputs": [
    {
     "data": {
      "text/plain": [
       "array([[[[6, 4],\n",
       "         [3, 0]]]])"
      ]
     },
     "execution_count": 13,
     "metadata": {},
     "output_type": "execute_result"
    }
   ],
   "source": [
    "dout"
   ]
  },
  {
   "cell_type": "code",
   "execution_count": 14,
   "metadata": {},
   "outputs": [],
   "source": [
    "dZ = dout"
   ]
  },
  {
   "cell_type": "code",
   "execution_count": 26,
   "metadata": {},
   "outputs": [],
   "source": [
    "dx = np.zeros(shape=x.shape)\n",
    "dw = np.zeros(shape=w.shape)\n",
    "dx_pad = np.zeros(shape=x_pad.shape)"
   ]
  },
  {
   "cell_type": "code",
   "execution_count": 17,
   "metadata": {},
   "outputs": [
    {
     "data": {
      "text/plain": [
       "array([[[0., 0., 0., 0., 0., 0.],\n",
       "        [0., 0., 0., 0., 0., 0.],\n",
       "        [0., 0., 0., 0., 0., 0.],\n",
       "        [0., 0., 0., 0., 0., 0.],\n",
       "        [0., 0., 0., 0., 0., 0.],\n",
       "        [0., 0., 0., 0., 0., 0.]]])"
      ]
     },
     "execution_count": 17,
     "metadata": {},
     "output_type": "execute_result"
    }
   ],
   "source": [
    "dx_pad"
   ]
  },
  {
   "cell_type": "code",
   "execution_count": 28,
   "metadata": {},
   "outputs": [
    {
     "data": {
      "text/plain": [
       "array([[[3, 2, 5, 7],\n",
       "        [1, 4, 4, 2],\n",
       "        [2, 8, 1, 3],\n",
       "        [0, 3, 6, 3]]])"
      ]
     },
     "execution_count": 28,
     "metadata": {},
     "output_type": "execute_result"
    }
   ],
   "source": [
    "x"
   ]
  },
  {
   "cell_type": "code",
   "execution_count": 27,
   "metadata": {
    "scrolled": false
   },
   "outputs": [
    {
     "name": "stdout",
     "output_type": "stream",
     "text": [
      "n = 0\n",
      "sample = \n",
      "[[0 0 0 0 0 0]\n",
      " [0 3 2 5 7 0]\n",
      " [0 1 4 4 2 0]\n",
      " [0 2 8 1 3 0]\n",
      " [0 0 3 6 3 0]\n",
      " [0 0 0 0 0 0]]\n",
      "\n",
      "dZ = \n",
      "[[[[6 4]\n",
      "   [3 0]]]]\n",
      "\n",
      "filt = \n",
      "[[8 7 1 7]\n",
      " [5 4 8 4]\n",
      " [8 8 6 2]\n",
      " [0 7 5 8]]\n",
      "\n",
      "\ti = 0\n",
      "\tj = 0\n",
      "\n",
      "upgrad = 6\n",
      "\n",
      "patch = \n",
      "[[0 0 0 0]\n",
      " [0 3 2 5]\n",
      " [0 1 4 4]\n",
      " [0 2 8 1]]\n",
      "\n",
      "dw before:\n",
      "[[[0. 0. 0. 0.]\n",
      "  [0. 0. 0. 0.]\n",
      "  [0. 0. 0. 0.]\n",
      "  [0. 0. 0. 0.]]]\n",
      "\n",
      "dw after:\n",
      "[[[ 0.  0.  0.  0.]\n",
      "  [ 0. 18. 12. 30.]\n",
      "  [ 0.  6. 24. 24.]\n",
      "  [ 0. 12. 48.  6.]]]\n",
      "\n",
      "dx_pad before:\n",
      "[[[0. 0. 0. 0. 0. 0.]\n",
      "  [0. 0. 0. 0. 0. 0.]\n",
      "  [0. 0. 0. 0. 0. 0.]\n",
      "  [0. 0. 0. 0. 0. 0.]\n",
      "  [0. 0. 0. 0. 0. 0.]\n",
      "  [0. 0. 0. 0. 0. 0.]]]\n",
      "\n",
      "dx_pad after:\n",
      "[[[48. 42.  6. 42.  0.  0.]\n",
      "  [30. 24. 48. 24.  0.  0.]\n",
      "  [48. 48. 36. 12.  0.  0.]\n",
      "  [ 0. 42. 30. 48.  0.  0.]\n",
      "  [ 0.  0.  0.  0.  0.  0.]\n",
      "  [ 0.  0.  0.  0.  0.  0.]]]\n",
      "\n",
      "\tj = 1\n",
      "\n",
      "upgrad = 4\n",
      "\n",
      "patch = \n",
      "[[0 0 0 0]\n",
      " [2 5 7 0]\n",
      " [4 4 2 0]\n",
      " [8 1 3 0]]\n",
      "\n",
      "dw before:\n",
      "[[[ 0.  0.  0.  0.]\n",
      "  [ 0. 18. 12. 30.]\n",
      "  [ 0.  6. 24. 24.]\n",
      "  [ 0. 12. 48.  6.]]]\n",
      "\n",
      "dw after:\n",
      "[[[ 0.  0.  0.  0.]\n",
      "  [ 8. 38. 40. 30.]\n",
      "  [16. 22. 32. 24.]\n",
      "  [32. 16. 60.  6.]]]\n",
      "\n",
      "dx_pad before:\n",
      "[[[48. 42.  6. 42.  0.  0.]\n",
      "  [30. 24. 48. 24.  0.  0.]\n",
      "  [48. 48. 36. 12.  0.  0.]\n",
      "  [ 0. 42. 30. 48.  0.  0.]\n",
      "  [ 0.  0.  0.  0.  0.  0.]\n",
      "  [ 0.  0.  0.  0.  0.  0.]]]\n",
      "\n",
      "dx_pad after:\n",
      "[[[48. 42. 38. 70.  4. 28.]\n",
      "  [30. 24. 68. 40. 32. 16.]\n",
      "  [48. 48. 68. 44. 24.  8.]\n",
      "  [ 0. 42. 30. 76. 20. 32.]\n",
      "  [ 0.  0.  0.  0.  0.  0.]\n",
      "  [ 0.  0.  0.  0.  0.  0.]]]\n",
      "\n",
      "\ti = 1\n",
      "\tj = 0\n",
      "\n",
      "upgrad = 3\n",
      "\n",
      "patch = \n",
      "[[0 1 4 4]\n",
      " [0 2 8 1]\n",
      " [0 0 3 6]\n",
      " [0 0 0 0]]\n",
      "\n",
      "dw before:\n",
      "[[[ 0.  0.  0.  0.]\n",
      "  [ 8. 38. 40. 30.]\n",
      "  [16. 22. 32. 24.]\n",
      "  [32. 16. 60.  6.]]]\n",
      "\n",
      "dw after:\n",
      "[[[ 0.  3. 12. 12.]\n",
      "  [ 8. 44. 64. 33.]\n",
      "  [16. 22. 41. 42.]\n",
      "  [32. 16. 60.  6.]]]\n",
      "\n",
      "dx_pad before:\n",
      "[[[48. 42. 38. 70.  4. 28.]\n",
      "  [30. 24. 68. 40. 32. 16.]\n",
      "  [48. 48. 68. 44. 24.  8.]\n",
      "  [ 0. 42. 30. 76. 20. 32.]\n",
      "  [ 0.  0.  0.  0.  0.  0.]\n",
      "  [ 0.  0.  0.  0.  0.  0.]]]\n",
      "\n",
      "dx_pad after:\n",
      "[[[48. 42. 38. 70.  4. 28.]\n",
      "  [30. 24. 68. 40. 32. 16.]\n",
      "  [72. 69. 71. 65. 24.  8.]\n",
      "  [15. 54. 54. 88. 20. 32.]\n",
      "  [24. 24. 18.  6.  0.  0.]\n",
      "  [ 0. 21. 15. 24.  0.  0.]]]\n",
      "\n",
      "\tj = 1\n",
      "\n",
      "upgrad = 0\n",
      "\n",
      "patch = \n",
      "[[4 4 2 0]\n",
      " [8 1 3 0]\n",
      " [3 6 3 0]\n",
      " [0 0 0 0]]\n",
      "\n",
      "dw before:\n",
      "[[[ 0.  3. 12. 12.]\n",
      "  [ 8. 44. 64. 33.]\n",
      "  [16. 22. 41. 42.]\n",
      "  [32. 16. 60.  6.]]]\n",
      "\n",
      "dw after:\n",
      "[[[ 0.  3. 12. 12.]\n",
      "  [ 8. 44. 64. 33.]\n",
      "  [16. 22. 41. 42.]\n",
      "  [32. 16. 60.  6.]]]\n",
      "\n",
      "dx_pad before:\n",
      "[[[48. 42. 38. 70.  4. 28.]\n",
      "  [30. 24. 68. 40. 32. 16.]\n",
      "  [72. 69. 71. 65. 24.  8.]\n",
      "  [15. 54. 54. 88. 20. 32.]\n",
      "  [24. 24. 18.  6.  0.  0.]\n",
      "  [ 0. 21. 15. 24.  0.  0.]]]\n",
      "\n",
      "dx_pad after:\n",
      "[[[48. 42. 38. 70.  4. 28.]\n",
      "  [30. 24. 68. 40. 32. 16.]\n",
      "  [72. 69. 71. 65. 24.  8.]\n",
      "  [15. 54. 54. 88. 20. 32.]\n",
      "  [24. 24. 18.  6.  0.  0.]\n",
      "  [ 0. 21. 15. 24.  0.  0.]]]\n",
      "\n"
     ]
    }
   ],
   "source": [
    "for n in range(N):\n",
    "    print('n = {}'.format(n))\n",
    "    sample = x_pad[n, :, :]\n",
    "    print('sample = \\n{}'.format(sample))\n",
    "    print()\n",
    "    print('dZ = \\n{}'.format(dZ))\n",
    "    print()\n",
    "    for f in range(F):\n",
    "        filt = w[f, :, :]\n",
    "        print('filt = \\n{}'.format(filt))\n",
    "        print()\n",
    "        for i in range(H_prime):\n",
    "            print('\\ti = {}'.format(i))\n",
    "            for j in range(W_prime):\n",
    "                print('\\tj = {}'.format(j))\n",
    "                print()\n",
    "                upgrad = dZ[n, f, i, j]\n",
    "                print('upgrad = {}'.format(upgrad))\n",
    "                print()\n",
    "                patch = sample[(i * s):(i * s + HH), (j * s):(j * s + WW)]\n",
    "                print('patch = \\n{}'.format(patch))\n",
    "                print()\n",
    "                print('dw before:\\n{}'.format(dw))\n",
    "                print()\n",
    "                dw[f, :, :] += sample[(i * s):(i * s + HH), (j * s):(j * s + WW)] * upgrad\n",
    "                print('dw after:\\n{}'.format(dw))\n",
    "                print()\n",
    "                print('dx_pad before:\\n{}'.format(dx_pad))\n",
    "                print()\n",
    "                dx_pad[n, (i * s):(i * s + HH), (j * s):(j * s + WW)] += filt * upgrad\n",
    "                print('dx_pad after:\\n{}'.format(dx_pad))\n",
    "                print()\n",
    "                \n",
    "dx = dx_pad[:, pad:(pad + H), pad:(pad + W)]"
   ]
  },
  {
   "cell_type": "code",
   "execution_count": 29,
   "metadata": {},
   "outputs": [],
   "source": [
    "x = np.random.randint(low=0, high=9, size=(3, 4, 4))"
   ]
  },
  {
   "cell_type": "code",
   "execution_count": 30,
   "metadata": {},
   "outputs": [
    {
     "data": {
      "text/plain": [
       "array([[[5, 7, 6, 0],\n",
       "        [3, 2, 0, 2],\n",
       "        [8, 2, 1, 8],\n",
       "        [5, 4, 1, 5]],\n",
       "\n",
       "       [[2, 0, 0, 3],\n",
       "        [3, 7, 1, 2],\n",
       "        [8, 7, 4, 2],\n",
       "        [3, 0, 4, 8]],\n",
       "\n",
       "       [[0, 1, 5, 8],\n",
       "        [1, 7, 4, 5],\n",
       "        [7, 6, 3, 7],\n",
       "        [3, 7, 4, 3]]])"
      ]
     },
     "execution_count": 30,
     "metadata": {},
     "output_type": "execute_result"
    }
   ],
   "source": [
    "x"
   ]
  },
  {
   "cell_type": "code",
   "execution_count": 32,
   "metadata": {},
   "outputs": [],
   "source": [
    "C, H, W = x.shape\n",
    "H_pool = 2\n",
    "W_pool = 2\n",
    "s = 2\n",
    "\n",
    "H_out = 1 + (H - H_pool) // s\n",
    "W_out = 1 + (W - W_pool) // s\n",
    "\n",
    "out = np.zeros(shape=(C, H_out, W_out))"
   ]
  },
  {
   "cell_type": "code",
   "execution_count": 33,
   "metadata": {},
   "outputs": [
    {
     "data": {
      "text/plain": [
       "array([[[0., 0.],\n",
       "        [0., 0.]],\n",
       "\n",
       "       [[0., 0.],\n",
       "        [0., 0.]],\n",
       "\n",
       "       [[0., 0.],\n",
       "        [0., 0.]]])"
      ]
     },
     "execution_count": 33,
     "metadata": {},
     "output_type": "execute_result"
    }
   ],
   "source": [
    "out"
   ]
  },
  {
   "cell_type": "code",
   "execution_count": 34,
   "metadata": {},
   "outputs": [
    {
     "data": {
      "text/plain": [
       "array([[[5, 7, 6, 0],\n",
       "        [3, 2, 0, 2],\n",
       "        [8, 2, 1, 8],\n",
       "        [5, 4, 1, 5]],\n",
       "\n",
       "       [[2, 0, 0, 3],\n",
       "        [3, 7, 1, 2],\n",
       "        [8, 7, 4, 2],\n",
       "        [3, 0, 4, 8]],\n",
       "\n",
       "       [[0, 1, 5, 8],\n",
       "        [1, 7, 4, 5],\n",
       "        [7, 6, 3, 7],\n",
       "        [3, 7, 4, 3]]])"
      ]
     },
     "execution_count": 34,
     "metadata": {},
     "output_type": "execute_result"
    }
   ],
   "source": [
    "x"
   ]
  },
  {
   "cell_type": "code",
   "execution_count": 35,
   "metadata": {
    "scrolled": true
   },
   "outputs": [
    {
     "name": "stdout",
     "output_type": "stream",
     "text": [
      "c = 0\n",
      "channel = \n",
      "[[5 7 6 0]\n",
      " [3 2 0 2]\n",
      " [8 2 1 8]\n",
      " [5 4 1 5]]\n",
      "\n",
      "\th = 0\n",
      "\tw = 0\n",
      "patch = \n",
      "[[5 7]\n",
      " [3 2]]\n",
      "\n",
      "out before: \n",
      "[[[0. 0.]\n",
      "  [0. 0.]]\n",
      "\n",
      " [[0. 0.]\n",
      "  [0. 0.]]\n",
      "\n",
      " [[0. 0.]\n",
      "  [0. 0.]]]\n",
      "out after: \n",
      "[[[7. 0.]\n",
      "  [0. 0.]]\n",
      "\n",
      " [[0. 0.]\n",
      "  [0. 0.]]\n",
      "\n",
      " [[0. 0.]\n",
      "  [0. 0.]]]\n",
      "\tw = 1\n",
      "patch = \n",
      "[[6 0]\n",
      " [0 2]]\n",
      "\n",
      "out before: \n",
      "[[[7. 0.]\n",
      "  [0. 0.]]\n",
      "\n",
      " [[0. 0.]\n",
      "  [0. 0.]]\n",
      "\n",
      " [[0. 0.]\n",
      "  [0. 0.]]]\n",
      "out after: \n",
      "[[[7. 6.]\n",
      "  [0. 0.]]\n",
      "\n",
      " [[0. 0.]\n",
      "  [0. 0.]]\n",
      "\n",
      " [[0. 0.]\n",
      "  [0. 0.]]]\n",
      "\th = 1\n",
      "\tw = 0\n",
      "patch = \n",
      "[[8 2]\n",
      " [5 4]]\n",
      "\n",
      "out before: \n",
      "[[[7. 6.]\n",
      "  [0. 0.]]\n",
      "\n",
      " [[0. 0.]\n",
      "  [0. 0.]]\n",
      "\n",
      " [[0. 0.]\n",
      "  [0. 0.]]]\n",
      "out after: \n",
      "[[[7. 6.]\n",
      "  [8. 0.]]\n",
      "\n",
      " [[0. 0.]\n",
      "  [0. 0.]]\n",
      "\n",
      " [[0. 0.]\n",
      "  [0. 0.]]]\n",
      "\tw = 1\n",
      "patch = \n",
      "[[1 8]\n",
      " [1 5]]\n",
      "\n",
      "out before: \n",
      "[[[7. 6.]\n",
      "  [8. 0.]]\n",
      "\n",
      " [[0. 0.]\n",
      "  [0. 0.]]\n",
      "\n",
      " [[0. 0.]\n",
      "  [0. 0.]]]\n",
      "out after: \n",
      "[[[7. 6.]\n",
      "  [8. 8.]]\n",
      "\n",
      " [[0. 0.]\n",
      "  [0. 0.]]\n",
      "\n",
      " [[0. 0.]\n",
      "  [0. 0.]]]\n",
      "c = 1\n",
      "channel = \n",
      "[[2 0 0 3]\n",
      " [3 7 1 2]\n",
      " [8 7 4 2]\n",
      " [3 0 4 8]]\n",
      "\n",
      "\th = 0\n",
      "\tw = 0\n",
      "patch = \n",
      "[[2 0]\n",
      " [3 7]]\n",
      "\n",
      "out before: \n",
      "[[[7. 6.]\n",
      "  [8. 8.]]\n",
      "\n",
      " [[0. 0.]\n",
      "  [0. 0.]]\n",
      "\n",
      " [[0. 0.]\n",
      "  [0. 0.]]]\n",
      "out after: \n",
      "[[[7. 6.]\n",
      "  [8. 8.]]\n",
      "\n",
      " [[7. 0.]\n",
      "  [0. 0.]]\n",
      "\n",
      " [[0. 0.]\n",
      "  [0. 0.]]]\n",
      "\tw = 1\n",
      "patch = \n",
      "[[0 3]\n",
      " [1 2]]\n",
      "\n",
      "out before: \n",
      "[[[7. 6.]\n",
      "  [8. 8.]]\n",
      "\n",
      " [[7. 0.]\n",
      "  [0. 0.]]\n",
      "\n",
      " [[0. 0.]\n",
      "  [0. 0.]]]\n",
      "out after: \n",
      "[[[7. 6.]\n",
      "  [8. 8.]]\n",
      "\n",
      " [[7. 3.]\n",
      "  [0. 0.]]\n",
      "\n",
      " [[0. 0.]\n",
      "  [0. 0.]]]\n",
      "\th = 1\n",
      "\tw = 0\n",
      "patch = \n",
      "[[8 7]\n",
      " [3 0]]\n",
      "\n",
      "out before: \n",
      "[[[7. 6.]\n",
      "  [8. 8.]]\n",
      "\n",
      " [[7. 3.]\n",
      "  [0. 0.]]\n",
      "\n",
      " [[0. 0.]\n",
      "  [0. 0.]]]\n",
      "out after: \n",
      "[[[7. 6.]\n",
      "  [8. 8.]]\n",
      "\n",
      " [[7. 3.]\n",
      "  [8. 0.]]\n",
      "\n",
      " [[0. 0.]\n",
      "  [0. 0.]]]\n",
      "\tw = 1\n",
      "patch = \n",
      "[[4 2]\n",
      " [4 8]]\n",
      "\n",
      "out before: \n",
      "[[[7. 6.]\n",
      "  [8. 8.]]\n",
      "\n",
      " [[7. 3.]\n",
      "  [8. 0.]]\n",
      "\n",
      " [[0. 0.]\n",
      "  [0. 0.]]]\n",
      "out after: \n",
      "[[[7. 6.]\n",
      "  [8. 8.]]\n",
      "\n",
      " [[7. 3.]\n",
      "  [8. 8.]]\n",
      "\n",
      " [[0. 0.]\n",
      "  [0. 0.]]]\n",
      "c = 2\n",
      "channel = \n",
      "[[0 1 5 8]\n",
      " [1 7 4 5]\n",
      " [7 6 3 7]\n",
      " [3 7 4 3]]\n",
      "\n",
      "\th = 0\n",
      "\tw = 0\n",
      "patch = \n",
      "[[0 1]\n",
      " [1 7]]\n",
      "\n",
      "out before: \n",
      "[[[7. 6.]\n",
      "  [8. 8.]]\n",
      "\n",
      " [[7. 3.]\n",
      "  [8. 8.]]\n",
      "\n",
      " [[0. 0.]\n",
      "  [0. 0.]]]\n",
      "out after: \n",
      "[[[7. 6.]\n",
      "  [8. 8.]]\n",
      "\n",
      " [[7. 3.]\n",
      "  [8. 8.]]\n",
      "\n",
      " [[7. 0.]\n",
      "  [0. 0.]]]\n",
      "\tw = 1\n",
      "patch = \n",
      "[[5 8]\n",
      " [4 5]]\n",
      "\n",
      "out before: \n",
      "[[[7. 6.]\n",
      "  [8. 8.]]\n",
      "\n",
      " [[7. 3.]\n",
      "  [8. 8.]]\n",
      "\n",
      " [[7. 0.]\n",
      "  [0. 0.]]]\n",
      "out after: \n",
      "[[[7. 6.]\n",
      "  [8. 8.]]\n",
      "\n",
      " [[7. 3.]\n",
      "  [8. 8.]]\n",
      "\n",
      " [[7. 8.]\n",
      "  [0. 0.]]]\n",
      "\th = 1\n",
      "\tw = 0\n",
      "patch = \n",
      "[[7 6]\n",
      " [3 7]]\n",
      "\n",
      "out before: \n",
      "[[[7. 6.]\n",
      "  [8. 8.]]\n",
      "\n",
      " [[7. 3.]\n",
      "  [8. 8.]]\n",
      "\n",
      " [[7. 8.]\n",
      "  [0. 0.]]]\n",
      "out after: \n",
      "[[[7. 6.]\n",
      "  [8. 8.]]\n",
      "\n",
      " [[7. 3.]\n",
      "  [8. 8.]]\n",
      "\n",
      " [[7. 8.]\n",
      "  [7. 0.]]]\n",
      "\tw = 1\n",
      "patch = \n",
      "[[3 7]\n",
      " [4 3]]\n",
      "\n",
      "out before: \n",
      "[[[7. 6.]\n",
      "  [8. 8.]]\n",
      "\n",
      " [[7. 3.]\n",
      "  [8. 8.]]\n",
      "\n",
      " [[7. 8.]\n",
      "  [7. 0.]]]\n",
      "out after: \n",
      "[[[7. 6.]\n",
      "  [8. 8.]]\n",
      "\n",
      " [[7. 3.]\n",
      "  [8. 8.]]\n",
      "\n",
      " [[7. 8.]\n",
      "  [7. 7.]]]\n"
     ]
    }
   ],
   "source": [
    "for c in range(C):\n",
    "    print('c = {}'.format(c))\n",
    "    channel = x[c, :, :]\n",
    "    print('channel = \\n{}'.format(channel))\n",
    "    print()\n",
    "    for h in range(H_out):\n",
    "        print('\\th = {}'.format(h))\n",
    "        for w in range(W_out):\n",
    "            print('\\tw = {}'.format(w))\n",
    "            patch = channel[(h * s):(h * s + H_pool), (w * s):(w * s + W_pool)]\n",
    "            print('patch = \\n{}'.format(patch))\n",
    "            print()\n",
    "            print('out before: \\n{}'.format(out))\n",
    "            out[c, h, w] = np.max(patch)\n",
    "            print('out after: \\n{}'.format(out))"
   ]
  },
  {
   "cell_type": "code",
   "execution_count": 36,
   "metadata": {},
   "outputs": [
    {
     "data": {
      "text/plain": [
       "array([[[5, 7, 6, 0],\n",
       "        [3, 2, 0, 2],\n",
       "        [8, 2, 1, 8],\n",
       "        [5, 4, 1, 5]],\n",
       "\n",
       "       [[2, 0, 0, 3],\n",
       "        [3, 7, 1, 2],\n",
       "        [8, 7, 4, 2],\n",
       "        [3, 0, 4, 8]],\n",
       "\n",
       "       [[0, 1, 5, 8],\n",
       "        [1, 7, 4, 5],\n",
       "        [7, 6, 3, 7],\n",
       "        [3, 7, 4, 3]]])"
      ]
     },
     "execution_count": 36,
     "metadata": {},
     "output_type": "execute_result"
    }
   ],
   "source": [
    "x"
   ]
  },
  {
   "cell_type": "code",
   "execution_count": 37,
   "metadata": {},
   "outputs": [
    {
     "data": {
      "text/plain": [
       "array([[[7., 6.],\n",
       "        [8., 8.]],\n",
       "\n",
       "       [[7., 3.],\n",
       "        [8., 8.]],\n",
       "\n",
       "       [[7., 8.],\n",
       "        [7., 7.]]])"
      ]
     },
     "execution_count": 37,
     "metadata": {},
     "output_type": "execute_result"
    }
   ],
   "source": [
    "out"
   ]
  },
  {
   "cell_type": "code",
   "execution_count": 38,
   "metadata": {},
   "outputs": [],
   "source": [
    "dout = np.random.randint(low=0, high=9, size=(3, 2, 2))"
   ]
  },
  {
   "cell_type": "code",
   "execution_count": 40,
   "metadata": {},
   "outputs": [],
   "source": [
    "dx = np.zeros(shape=x.shape)"
   ]
  },
  {
   "cell_type": "code",
   "execution_count": 39,
   "metadata": {},
   "outputs": [
    {
     "data": {
      "text/plain": [
       "array([[[1, 8],\n",
       "        [8, 5]],\n",
       "\n",
       "       [[7, 6],\n",
       "        [0, 1]],\n",
       "\n",
       "       [[0, 1],\n",
       "        [2, 1]]])"
      ]
     },
     "execution_count": 39,
     "metadata": {},
     "output_type": "execute_result"
    }
   ],
   "source": [
    "dout"
   ]
  },
  {
   "cell_type": "code",
   "execution_count": null,
   "metadata": {},
   "outputs": [],
   "source": [
    "for c in range(C):\n",
    "    print('c = {}'.format(c))\n",
    "    channel = x[c, :, :]\n",
    "    print('channel = \\n{}'.format(channel))\n",
    "    print()\n",
    "    for h in range(H_out):\n",
    "        print('\\th = {}'.format(h))\n",
    "        for w in range(W_out):\n",
    "            print('\\tw = {}'.format(w))\n",
    "            upgrad = dout[c, h, w]\n",
    "            print('upgrad = \\n{}'.format(upgrad))\n",
    "            print()\n",
    "            patch = channel[(h * s):(h * s + H_pool), (w * s):(w * s + W_pool)]\n",
    "            print('patch = \\n{}'.format(patch))\n",
    "            print()\n",
    "            indices = np.argmax(patch)\n",
    "            print('indices = \\n{}'.format(indices))\n",
    "            print()\n",
    "            idx = np.unravel_index(indices=indices, shape=(H_pool, W_pool))\n",
    "            print('idx = \\n{}'.format(idx))\n",
    "            print()\n",
    "            print('dx before:\\n{}'.format(dx))\n",
    "            print()\n",
    "            dx[c, (h * s):(h * s + H_pool), (w * s):(w * s + W_pool)][idx] = upgrad\n",
    "            print('dx after:\\n{}'.format(dx))\n",
    "            print()"
   ]
  }
 ],
 "metadata": {
  "kernelspec": {
   "display_name": "Python 3",
   "language": "python",
   "name": "python3"
  },
  "language_info": {
   "codemirror_mode": {
    "name": "ipython",
    "version": 3
   },
   "file_extension": ".py",
   "mimetype": "text/x-python",
   "name": "python",
   "nbconvert_exporter": "python",
   "pygments_lexer": "ipython3",
   "version": "3.7.3"
  }
 },
 "nbformat": 4,
 "nbformat_minor": 2
}
