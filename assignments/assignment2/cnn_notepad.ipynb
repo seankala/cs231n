{
 "cells": [
  {
   "cell_type": "code",
   "execution_count": null,
   "metadata": {},
   "outputs": [],
   "source": [
    "import numpy as np"
   ]
  },
  {
   "cell_type": "code",
   "execution_count": null,
   "metadata": {},
   "outputs": [],
   "source": [
    "x = np.random.randint(low=0, high=9, size=(1, 4, 4))\n",
    "w = np.random.randint(low=0, high=9, size=(1, 4, 4))\n",
    "\n",
    "s = 2\n",
    "pad = 1\n",
    "\n",
    "pad_width = ((0, 0), (pad, pad), (pad, pad))\n",
    "x_pad = np.pad(array=x, pad_width=pad_width, mode='constant', constant_values=0)\n",
    "\n",
    "N, H, W = x.shape\n",
    "F, HH, WW = w.shape\n",
    "\n",
    "H_prime = 1 + (H + 2 * pad - HH) // s\n",
    "W_prime = 1 + (W + 2 * pad - WW) // s"
   ]
  },
  {
   "cell_type": "code",
   "execution_count": null,
   "metadata": {},
   "outputs": [],
   "source": [
    "x"
   ]
  },
  {
   "cell_type": "code",
   "execution_count": null,
   "metadata": {},
   "outputs": [],
   "source": [
    "x_pad"
   ]
  },
  {
   "cell_type": "code",
   "execution_count": null,
   "metadata": {},
   "outputs": [],
   "source": [
    "w"
   ]
  },
  {
   "cell_type": "code",
   "execution_count": null,
   "metadata": {},
   "outputs": [],
   "source": [
    "for n in range(N):\n",
    "    print('n = {}'.format(n))\n",
    "    sample = x_pad[n, :, :]\n",
    "    print('sample = \\n{}'.format(sample))\n",
    "    for f in range(F):\n",
    "        print('f = {}'.format(f))\n",
    "        filt = w[f, :, :]\n",
    "        print('filt = \\n{}'.format(filt))\n",
    "        for i in range(H_prime)"
   ]
  }
 ],
 "metadata": {
  "kernelspec": {
   "display_name": "Python 3",
   "language": "python",
   "name": "python3"
  },
  "language_info": {
   "codemirror_mode": {
    "name": "ipython",
    "version": 3
   },
   "file_extension": ".py",
   "mimetype": "text/x-python",
   "name": "python",
   "nbconvert_exporter": "python",
   "pygments_lexer": "ipython3",
   "version": "3.7.1"
  }
 },
 "nbformat": 4,
 "nbformat_minor": 2
}
